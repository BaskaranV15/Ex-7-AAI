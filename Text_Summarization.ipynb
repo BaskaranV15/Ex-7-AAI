{
  "nbformat": 4,
  "nbformat_minor": 0,
  "metadata": {
    "colab": {
      "provenance": [],
      "authorship_tag": "ABX9TyPol++r3qcjFWpbKa3m6l7a",
      "include_colab_link": true
    },
    "kernelspec": {
      "name": "python3",
      "display_name": "Python 3"
    },
    "language_info": {
      "name": "python"
    }
  },
  "cells": [
    {
      "cell_type": "markdown",
      "metadata": {
        "id": "view-in-github",
        "colab_type": "text"
      },
      "source": [
        "<a href=\"https://colab.research.google.com/github/BaskaranV15/Ex-7-AAI/blob/main/Text_Summarization.ipynb\" target=\"_parent\"><img src=\"https://colab.research.google.com/assets/colab-badge.svg\" alt=\"Open In Colab\"/></a>"
      ]
    },
    {
      "cell_type": "code",
      "execution_count": null,
      "metadata": {
        "colab": {
          "base_uri": "https://localhost:8080/"
        },
        "id": "p-7s4j8RMiBC",
        "outputId": "4ea2a9c2-eaa9-4018-ead5-5dd116bd0516"
      },
      "outputs": [
        {
          "output_type": "stream",
          "name": "stderr",
          "text": [
            "[nltk_data] Downloading package punkt to /root/nltk_data...\n",
            "[nltk_data]   Unzipping tokenizers/punkt.zip.\n",
            "[nltk_data] Downloading package stopwords to /root/nltk_data...\n",
            "[nltk_data]   Unzipping corpora/stopwords.zip.\n"
          ]
        },
        {
          "output_type": "execute_result",
          "data": {
            "text/plain": [
              "True"
            ]
          },
          "metadata": {},
          "execution_count": 1
        }
      ],
      "source": [
        "import nltk\n",
        "from nltk.corpus import stopwords\n",
        "from nltk.tokenize import word_tokenize, sent_tokenize\n",
        "from nltk.stem import PorterStemmer\n",
        "\n",
        "nltk.download('punkt')\n",
        "nltk.download('stopwords')\n"
      ]
    },
    {
      "cell_type": "code",
      "source": [
        "\n",
        "def pp_text(text):\n",
        "    words = word_tokenize(text)\n",
        "    stop_words = set(stopwords.words('english'))\n",
        "    filtered_words = [word for word in words if word.lower() not in stop_words and word.isalnum()]\n",
        "    stemmer = PorterStemmer()\n",
        "    stemmed_words = [stemmer.stem(word) for word in filtered_words]\n",
        "    return stemmed_words\n"
      ],
      "metadata": {
        "id": "RM5AMDuaMwdo"
      },
      "execution_count": null,
      "outputs": []
    },
    {
      "cell_type": "code",
      "source": [
        "def generate_summary(text, num_sentences=3):\n",
        "    sentences = sent_tokenize(text)\n",
        "    preprocessed_text = pp_text(text)\n",
        "    word_frequencies = nltk.FreqDist(preprocessed_text)\n",
        "    sentence_scores = {}\n",
        "    for sentence in sentences:\n",
        "        for word, freq in word_frequencies.items():\n",
        "            if word in sentence.lower():\n",
        "                if sentence not in sentence_scores:\n",
        "                    sentence_scores[sentence] = freq\n",
        "                else:\n",
        "                    sentence_scores[sentence] += freq\n",
        "    summary_sentences = sorted(sentence_scores, key=sentence_scores.get, reverse=True)[:num_sentences]\n",
        "    return ' '.join(summary_sentences)\n"
      ],
      "metadata": {
        "id": "4GFqpFcXMy3b"
      },
      "execution_count": null,
      "outputs": []
    },
    {
      "cell_type": "code",
      "source": [
        "if __name__ == \"__main__\":\n",
        "    input_text = \"\"\"\n",
        "    Natural language processing (NLP) is the ability of\n",
        "    a computer program to understand human language as it's\n",
        "    spoken and written -- referred to as natural language.\n",
        "    It's a component of artificial intelligence (AI).\n",
        "\n",
        "    NLP has existed for more than 50 years and has roots in\n",
        "    the field of linguistics. It has a variety of real-world\n",
        "    applications in numerous fields, including medical research,\n",
        "    search engines and business intelligence.\n",
        "    \"\"\"\n",
        "    summary = generate_summary(input_text)\n",
        "    print(\"Original Text:\")\n",
        "    print(input_text)\n",
        "    print(\"Summary:\")\n",
        "    print(summary)\n"
      ],
      "metadata": {
        "colab": {
          "base_uri": "https://localhost:8080/"
        },
        "id": "ZTjAppqgM38c",
        "outputId": "2f59cc82-8254-43f3-e990-e9810d71218a"
      },
      "execution_count": null,
      "outputs": [
        {
          "output_type": "stream",
          "name": "stdout",
          "text": [
            "Original Text:\n",
            "\n",
            "    Natural language processing (NLP) is the ability of \n",
            "    a computer program to understand human language as it's \n",
            "    spoken and written -- referred to as natural language. \n",
            "    It's a component of artificial intelligence (AI).\n",
            "\n",
            "    NLP has existed for more than 50 years and has roots in \n",
            "    the field of linguistics. It has a variety of real-world \n",
            "    applications in numerous fields, including medical research, \n",
            "    search engines and business intelligence.\n",
            "    \n",
            "Summary:\n",
            "\n",
            "    Natural language processing (NLP) is the ability of \n",
            "    a computer program to understand human language as it's \n",
            "    spoken and written -- referred to as natural language. It has a variety of real-world \n",
            "    applications in numerous fields, including medical research, \n",
            "    search engines and business intelligence. NLP has existed for more than 50 years and has roots in \n",
            "    the field of linguistics.\n"
          ]
        }
      ]
    },
    {
      "cell_type": "code",
      "source": [],
      "metadata": {
        "id": "rliH41A9M4QG"
      },
      "execution_count": null,
      "outputs": []
    }
  ]
}